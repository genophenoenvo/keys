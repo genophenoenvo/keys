{
 "cells": [
  {
   "cell_type": "code",
   "execution_count": 9,
   "metadata": {},
   "outputs": [],
   "source": [
    "import os\n",
    "import matplotlib.pyplot as plt\n",
    "import seaborn as sns\n",
    "import numpy as np\n",
    "from shapely.geometry import mapping\n",
    "import geopandas as gpd\n",
    "import rasterio as rio\n",
    "from rasterio.plot import plotting_extent\n",
    "from rasterio.mask import mask\n",
    "import earthpy as et\n",
    "import earthpy.spatial as es\n",
    "import earthpy.plot as ep\n",
    "\n",
    "# Prettier plotting with seaborn\n",
    "sns.set(font_scale=1.5)\n",
    "\n",
    "# Get data and set working directory\n",
    "et.data.get_data(\"colorado-flood\")\n",
    "os.chdir(os.path.join(et.io.HOME, 'earth-analytics'))\n"
   ]
  },
  {
   "cell_type": "markdown",
   "metadata": {},
   "source": [
    "Loading libraries, as usual. Next step: Opening a vector layer."
   ]
  },
  {
   "cell_type": "code",
   "execution_count": 2,
   "metadata": {},
   "outputs": [],
   "source": [
    "aoi = os.path.join(\"data\", \"colorado-flood\", \"spatial\",\n",
    "                   \"boulder-leehill-rd\", \"clip-extent.shp\")\n",
    "\n",
    "# Open crop extent (your study area extent boundary)\n",
    "crop_extent = gpd.read_file(aoi)\n"
   ]
  },
  {
   "cell_type": "code",
   "execution_count": 5,
   "metadata": {},
   "outputs": [
    {
     "name": "stdout",
     "output_type": "stream",
     "text": [
      "crop extent crs:  epsg:32613\n"
     ]
    }
   ],
   "source": [
    "print('crop extent crs: ', crop_extent.crs)\n",
    "#print('lidar crs: ', lidar_chm.crs)"
   ]
  },
  {
   "cell_type": "markdown",
   "metadata": {},
   "source": [
    "This code has an error, I think I can ignore it for now."
   ]
  },
  {
   "cell_type": "code",
   "execution_count": 7,
   "metadata": {},
   "outputs": [
    {
     "data": {
      "text/plain": [
       "Text(0.5, 1, 'Shapefile Crop Extent')"
      ]
     },
     "execution_count": 7,
     "metadata": {},
     "output_type": "execute_result"
    },
    {
     "data": {
      "image/png": "[encoded data removed]",
      "text/plain": [
       "<Figure size 432x432 with 1 Axes>"
      ]
     },
     "metadata": {},
     "output_type": "display_data"
    }
   ],
   "source": [
    "# Plot the crop boundary layer\n",
    "# Note this is just an example so you can see what it looks like\n",
    "# You don't need to plot this layer in your homework!\n",
    "fig, ax = plt.subplots(figsize=(6, 6))\n",
    "\n",
    "crop_extent.plot(ax=ax)\n",
    "\n",
    "ax.set_title(\"Shapefile Crop Extent\",\n",
    "             fontsize=16)\n"
   ]
  },
  {
   "cell_type": "markdown",
   "metadata": {},
   "source": [
    "Imported shapefile for cropping"
   ]
  },
  {
   "cell_type": "code",
   "execution_count": 12,
   "metadata": {},
   "outputs": [
    {
     "ename": "NameError",
     "evalue": "name 'lidar_chm' is not defined",
     "output_type": "error",
     "traceback": [
      "\u001b[0;31m---------------------------------------------------------------------------\u001b[0m",
      "\u001b[0;31mNameError\u001b[0m                                 Traceback (most recent call last)",
      "\u001b[0;32m<ipython-input-12-ba4c1c3e4089>\u001b[0m in \u001b[0;36m<module>\u001b[0;34m\u001b[0m\n\u001b[1;32m      2\u001b[0m \u001b[0;34m\u001b[0m\u001b[0m\n\u001b[1;32m      3\u001b[0m ep.plot_bands(lidar_chm_im, cmap='terrain',\n\u001b[0;32m----> 4\u001b[0;31m               \u001b[0mextent\u001b[0m\u001b[0;34m=\u001b[0m\u001b[0mplotting_extent\u001b[0m\u001b[0;34m(\u001b[0m\u001b[0mlidar_chm\u001b[0m\u001b[0;34m)\u001b[0m\u001b[0;34m,\u001b[0m\u001b[0;34m\u001b[0m\u001b[0;34m\u001b[0m\u001b[0m\n\u001b[0m\u001b[1;32m      5\u001b[0m               \u001b[0max\u001b[0m\u001b[0;34m=\u001b[0m\u001b[0max\u001b[0m\u001b[0;34m,\u001b[0m\u001b[0;34m\u001b[0m\u001b[0;34m\u001b[0m\u001b[0m\n\u001b[1;32m      6\u001b[0m               \u001b[0mtitle\u001b[0m\u001b[0;34m=\u001b[0m\u001b[0;34m\"Raster Layer with Shapefile Overlayed\"\u001b[0m\u001b[0;34m,\u001b[0m\u001b[0;34m\u001b[0m\u001b[0;34m\u001b[0m\u001b[0m\n",
      "\u001b[0;31mNameError\u001b[0m: name 'lidar_chm' is not defined"
     ]
    },
    {
     "data": {
      "image/png": "[encoded data removed]",
      "text/plain": [
       "<Figure size 720x576 with 1 Axes>"
      ]
     },
     "metadata": {},
     "output_type": "display_data"
    }
   ],
   "source": [
    "fig, ax = plt.subplots(figsize=(10, 8))\n",
    "\n",
    "ep.plot_bands(lidar_chm_im, cmap='terrain',\n",
    "              extent=plotting_extent(lidar_chm),\n",
    "              ax=ax,\n",
    "              title=\"Raster Layer with Shapefile Overlayed\",\n",
    "              cbar=False)\n",
    "\n",
    "crop_extent.plot(ax=ax, alpha=.8)\n",
    "\n",
    "ax.set_axis_off()\n"
   ]
  },
  {
   "cell_type": "markdown",
   "metadata": {},
   "source": [
    "This code has some serious error which I cannot find the solution too. I'm commiting, right now, but I'll do research and see If I can find a solution on my own."
   ]
  },
  {
   "cell_type": "code",
   "execution_count": null,
   "metadata": {},
   "outputs": [],
   "source": []
  }
 ],
 "metadata": {
  "kernelspec": {
   "display_name": "Python 3",
   "language": "python",
   "name": "python3"
  },
  "language_info": {
   "codemirror_mode": {
    "name": "ipython",
    "version": 3
   },
   "file_extension": ".py",
   "mimetype": "text/x-python",
   "name": "python",
   "nbconvert_exporter": "python",
   "pygments_lexer": "ipython3",
   "version": "3.7.6"
  }
 },
 "nbformat": 4,
 "nbformat_minor": 4
}
